{
 "cells": [
  {
   "cell_type": "markdown",
   "metadata": {
    "collapsed": true
   },
   "source": [
    "# PageRank\n",
    "In this notebook, you'll build on your knowledge of eigenvectors and eigenvalues by exploring the PageRank algorithm.\n",
    "The notebook is in two parts, the first is a worksheet to get you up to speed with how the algorithm works - here we will look at a micro-internet with fewer than 10 websites and see what it does and what can go wrong.\n",
    "The second is an assessment which will test your application of eigentheory to this problem by writing code and calculating the page rank of a large network representing a sub-section of the internet."
   ]
  },
  {
   "cell_type": "markdown",
   "metadata": {},
   "source": [
    "## Part 1 - Worksheet\n",
    "### Introduction\n",
    "\n",
    "PageRank (developed by Larry Page and Sergey Brin) revolutionized web search by generating a\n",
    "ranked list of web pages based on the underlying connectivity of the web. The PageRank algorithm is\n",
    "based on an ideal random web surfer who, when reaching a page, goes to the next page by clicking on a\n",
    "link. The surfer has equal probability of clicking any link on the page and, when reaching a page with no\n",
    "links, has equal probability of moving to any other page by typing in its URL. In addition, the surfer may\n",
    "occasionally choose to type in a random URL instead of following the links on a page. The PageRank is\n",
    "the ranked order of the pages from the most to the least probable page the surfer will be viewing.\n"
   ]
  },
  {
   "cell_type": "code",
   "execution_count": 2,
   "metadata": {},
   "outputs": [
    {
     "name": "stdout",
     "output_type": "stream",
     "text": [
      "Populating the interactive namespace from numpy and matplotlib\n"
     ]
    }
   ],
   "source": [
    "# Before we begin, let's load the libraries.\n",
    "%pylab notebook\n",
    "import numpy as np\n",
    "import numpy.linalg as la\n",
    "from readonly.PageRankFunctions import *\n",
    "np.set_printoptions(suppress=True)"
   ]
  },
  {
   "cell_type": "markdown",
   "metadata": {},
   "source": [
    "### PageRank as a linear algebra problem\n",
    "Let's imagine a micro-internet, with just 6 websites (**A**vocado, **B**ullseye, **C**atBabel, **D**romeda, **e**Tings, and **F**aceSpace).\n",
    "Each website links to some of the others, and this forms a network as shown,\n",
    "\n",
    "![A Micro-Internet](readonly/internet.png \"A Micro-Internet\")\n",
    "\n",
    "The design principle of PageRank is that important websites will be linked to by important websites.\n",
    "This somewhat recursive principle will form the basis of our thinking.\n",
    "\n",
    "Imagine we have 100 *Procrastinating Pat*s on our micro-internet, each viewing a single website at a time.\n",
    "Each minute the Pats follow a link on their website to another site on the micro-internet.\n",
    "After a while, the websites that are most linked to will have more Pats visiting them, and in the long run, each minute for every Pat that leaves a website, another will enter keeping the total numbers of Pats on each website constant.\n",
    "The PageRank is simply the ranking of websites by how many Pats they have on them at the end of this process.\n",
    "\n",
    "We represent the number of Pats on each website with the vector,\n",
    "$$\\mathbf{r} = \\begin{bmatrix} r_A \\\\ r_B \\\\ r_C \\\\ r_D \\\\ r_E \\\\ r_F \\end{bmatrix}$$\n",
    "And say that the number of Pats on each website in minute $i+1$ is related to those at minute $i$ by the matrix transformation\n",
    "\n",
    "$$ \\mathbf{r}^{(i+1)} = L \\,\\mathbf{r}^{(i)}$$\n",
    "with the matrix $L$ taking the form,\n",
    "$$ L = \\begin{bmatrix}\n",
    "L_{A→A} & L_{B→A} & L_{C→A} & L_{D→A} & L_{E→A} & L_{F→A} \\\\\n",
    "L_{A→B} & L_{B→B} & L_{C→B} & L_{D→B} & L_{E→B} & L_{F→B} \\\\\n",
    "L_{A→C} & L_{B→C} & L_{C→C} & L_{D→C} & L_{E→C} & L_{F→C} \\\\\n",
    "L_{A→D} & L_{B→D} & L_{C→D} & L_{D→D} & L_{E→D} & L_{F→D} \\\\\n",
    "L_{A→E} & L_{B→E} & L_{C→E} & L_{D→E} & L_{E→E} & L_{F→E} \\\\\n",
    "L_{A→F} & L_{B→F} & L_{C→F} & L_{D→F} & L_{E→F} & L_{F→F} \\\\\n",
    "\\end{bmatrix}\n",
    "$$\n",
    "where the columns represent the probability of leaving a website for any other website, and sum to one.\n",
    "The rows determine how likely you are to enter a website from any other, though these need not add to one.\n",
    "The long time behaviour of this system is when $ \\mathbf{r}^{(i+1)} = \\mathbf{r}^{(i)}$, so we'll drop the superscripts here, and that allows us to write,\n",
    "$$ L \\,\\mathbf{r} = \\mathbf{r}$$\n",
    "\n",
    "which is an eigenvalue equation for the matrix $L$, with eigenvalue 1 (this is guaranteed by the probabalistic structure of the matrix $L$).\n",
    "\n",
    "Complete the matrix $L$ below, we've left out the column for which websites the *FaceSpace* website (F) links to.\n",
    "Remember, this is the probability to click on another website from this one, so each column should add to one (by scaling by the number of links)."
   ]
  },
  {
   "cell_type": "code",
   "execution_count": 3,
   "metadata": {
    "collapsed": true
   },
   "outputs": [],
   "source": [
    "# Replace the ??? here with the probability of clicking a link to each website when leaving Website F (FaceSpace).\n",
    "L = np.array([[0,   1/2, 1/3, 0, 0,   0],\n",
    "              [1/3, 0,   0,   0, 1/2, 0],\n",
    "              [1/3, 1/2, 0,   1, 0,   1/2],\n",
    "              [1/3, 0,   1/3, 0, 1/2, 1/2],\n",
    "              [0,   0,   0,   0, 0,   0],\n",
    "              [0,   0,   1/3, 0, 0,   0]])"
   ]
  },
  {
   "cell_type": "markdown",
   "metadata": {},
   "source": [
    "In principle, we could use a linear algebra library, as below, to calculate the eigenvalues and vectors.\n",
    "And this would work for a small system. But this gets unmanagable for large systems.\n",
    "And since we only care about the principal eigenvector (the one with the largest eigenvalue, which will be 1 in this case), we can use the *power iteration method* which will scale better, and is faster for large systems.\n",
    "\n",
    "Use the code below to peek at the PageRank for this micro-internet."
   ]
  },
  {
   "cell_type": "code",
   "execution_count": 4,
   "metadata": {},
   "outputs": [
    {
     "data": {
      "text/plain": [
       "array([ 16.        ,   5.33333333,  40.        ,  25.33333333,\n",
       "         0.        ,  13.33333333])"
      ]
     },
     "execution_count": 4,
     "metadata": {},
     "output_type": "execute_result"
    }
   ],
   "source": [
    "eVals, eVecs = la.eig(L) # Gets the eigenvalues and vectors\n",
    "order = np.absolute(eVals).argsort()[::-1] # Orders them by their eigenvalues\n",
    "eVals = eVals[order]\n",
    "eVecs = eVecs[:,order]\n",
    "\n",
    "r = eVecs[:, 0] # Sets r to be the principal eigenvector\n",
    "100 * np.real(r / np.sum(r)) # Make this eigenvector sum to one, then multiply by 100 Procrastinating Pats"
   ]
  },
  {
   "cell_type": "markdown",
   "metadata": {},
   "source": [
    "We can see from this list, the number of Procrastinating Pats that we expect to find on each website after long times.\n",
    "Putting them in order of *popularity* (based on this metric), the PageRank of this micro-internet is:\n",
    "\n",
    "**C**atBabel, **D**romeda, **A**vocado, **F**aceSpace, **B**ullseye, **e**Tings\n",
    "\n",
    "Referring back to the micro-internet diagram, is this what you would have expected?\n",
    "Convince yourself that based on which pages seem important given which others link to them, that this is a sensible ranking.\n",
    "\n",
    "Let's now try to get the same result using the Power-Iteration method that was covered in the video.\n",
    "This method will be much better at dealing with large systems.\n",
    "\n",
    "First let's set up our initial vector, $\\mathbf{r}^{(0)}$, so that we have our 100 Procrastinating Pats equally distributed on each of our 6 websites."
   ]
  },
  {
   "cell_type": "code",
   "execution_count": 5,
   "metadata": {},
   "outputs": [
    {
     "data": {
      "text/plain": [
       "array([ 16.66666667,  16.66666667,  16.66666667,  16.66666667,\n",
       "        16.66666667,  16.66666667])"
      ]
     },
     "execution_count": 5,
     "metadata": {},
     "output_type": "execute_result"
    }
   ],
   "source": [
    "r = 100 * np.ones(6) / 6 # Sets up this vector (6 entries of 1/6 × 100 each)\n",
    "r # Shows it's value"
   ]
  },
  {
   "cell_type": "markdown",
   "metadata": {},
   "source": [
    "Next, let's update the vector to the next minute, with the matrix $L$.\n",
    "Run the following cell multiple times, until the answer stabilises."
   ]
  },
  {
   "cell_type": "code",
   "execution_count": 55,
   "metadata": {},
   "outputs": [
    {
     "data": {
      "text/plain": [
       "array([ 16.        ,   5.33333333,  40.        ,  25.33333333,\n",
       "         0.        ,  13.33333333])"
      ]
     },
     "execution_count": 55,
     "metadata": {},
     "output_type": "execute_result"
    }
   ],
   "source": [
    "r = L @ r # Apply matrix L to r\n",
    "r # Show it's value\n",
    "# Re-run this cell multiple times to converge to the correct answer."
   ]
  },
  {
   "cell_type": "markdown",
   "metadata": {},
   "source": [
    "We can automate applying this matrix multiple times as follows,"
   ]
  },
  {
   "cell_type": "code",
   "execution_count": 56,
   "metadata": {},
   "outputs": [
    {
     "data": {
      "text/plain": [
       "array([ 16.        ,   5.33333333,  40.        ,  25.33333333,\n",
       "         0.        ,  13.33333333])"
      ]
     },
     "execution_count": 56,
     "metadata": {},
     "output_type": "execute_result"
    }
   ],
   "source": [
    "r = 100 * np.ones(6) / 6 # Sets up this vector (6 entries of 1/6 × 100 each)\n",
    "for i in np.arange(100) : # Repeat 100 times\n",
    "    r = L @ r\n",
    "r"
   ]
  },
  {
   "cell_type": "markdown",
   "metadata": {},
   "source": [
    "Or even better, we can keep running until we get to the required tolerance."
   ]
  },
  {
   "cell_type": "code",
   "execution_count": 64,
   "metadata": {},
   "outputs": [
    {
     "name": "stdout",
     "output_type": "stream",
     "text": [
      "47 iterations to convergence.\n"
     ]
    },
    {
     "data": {
      "text/plain": [
       "array([ 16.        ,   5.33333333,  40.        ,  25.33333333,\n",
       "         0.        ,  13.33333333])"
      ]
     },
     "execution_count": 64,
     "metadata": {},
     "output_type": "execute_result"
    }
   ],
   "source": [
    "r = 100 * np.ones(6) / 6 # Sets up this vector (6 entries of 1/6 × 100 each)\n",
    "lastR = r\n",
    "r = L @ r\n",
    "i = 0\n",
    "while la.norm(lastR - r) > 0.00000001 :\n",
    "    lastR = r\n",
    "    r = L @ r\n",
    "    i += 1\n",
    "print(str(i) + \" iterations to convergence.\")\n",
    "r"
   ]
  },
  {
   "cell_type": "markdown",
   "metadata": {},
   "source": [
    "See how the PageRank order is established fairly quickly, and the vector converges on the value we calculated earlier after a few tens of repeats.\n",
    "\n",
    "Congratulations! You've just calculated your first PageRank!"
   ]
  },
  {
   "cell_type": "markdown",
   "metadata": {},
   "source": [
    "### Damping Parameter\n",
    "The system we just studied converged fairly quickly to the correct answer.\n",
    "Let's consider an extension to our micro-internet where things start to go wrong.\n",
    "\n",
    "Say a new website is added to the micro-internet: *Geoff's* Website.\n",
    "This website is linked to by *FaceSpace* and only links to itself.\n",
    "![An Expanded Micro-Internet](readonly/internet2.png \"An Expanded Micro-Internet\")\n",
    "\n",
    "Intuitively, only *FaceSpace*, which is in the bottom half of the page rank, links to this website amongst the two others it links to,\n",
    "so we might expect *Geoff's* site to have a correspondingly low PageRank score.\n",
    "\n",
    "Build the new $L$ matrix for the expanded micro-internet, and use Power-Iteration on the Procrastinating Pat vector.\n",
    "See what happens…"
   ]
  },
  {
   "cell_type": "code",
   "execution_count": 65,
   "metadata": {
    "collapsed": true
   },
   "outputs": [],
   "source": [
    " # We'll call this one L2, to distinguish it from the previous L.\n",
    "L2 = np.array([[0,   1/2, 1/3, 0, 0,   0  , 0 ],\n",
    "               [1/3, 0,   0,   0, 1/2, 0  , 0 ],\n",
    "               [1/3, 1/2, 0,   1, 0,   1/3, 0 ],\n",
    "               [1/3, 0,   1/3, 0, 1/2, 1/3, 0 ],\n",
    "               [0,   0,   0,   0, 0,   0  , 0 ],\n",
    "               [0,   0,   1/3, 0, 0,   0  , 0 ],\n",
    "               [0,   0,   0,   0, 0,   1/3, 1 ]])"
   ]
  },
  {
   "cell_type": "code",
   "execution_count": 70,
   "metadata": {},
   "outputs": [
    {
     "name": "stdout",
     "output_type": "stream",
     "text": [
      "180 iterations to convergence.\n"
     ]
    },
    {
     "data": {
      "text/plain": [
       "array([  0.00307652,   0.00107464,   0.00719566,   0.00446606,\n",
       "         0.        ,   0.00251346,  99.98167366])"
      ]
     },
     "execution_count": 70,
     "metadata": {},
     "output_type": "execute_result"
    }
   ],
   "source": [
    "r = 100 * np.ones(7) / 7 # Sets up this vector (6 entries of 1/6 × 100 each)\n",
    "lastR = r\n",
    "r = L2 @ r\n",
    "i = 0\n",
    "while la.norm(lastR - r) > 0.001 :\n",
    "    lastR = r\n",
    "    r = L2 @ r\n",
    "    i += 1\n",
    "print(str(i) + \" iterations to convergence.\")\n",
    "r"
   ]
  },
  {
   "cell_type": "markdown",
   "metadata": {},
   "source": [
    "That's no good! *Geoff* seems to be taking all the traffic on the micro-internet, and somehow coming at the top of the PageRank.\n",
    "This behaviour can be understood, because once a Pat get's to *Geoff's* Website, they can't leave, as all links head back to Geoff.\n",
    "\n",
    "To combat this, we can add a small probability that the Procrastinating Pats don't follow any link on a webpage, but instead visit a website on the micro-internet at random.\n",
    "We'll say the probability of them following a link is $d$ and the probability of choosing a random website is therefore $1-d$.\n",
    "We can use a new matrix to work out where the Pat's visit each minute.\n",
    "$$ M = d \\, L + \\frac{1-d}{n} \\, J $$\n",
    "where $J$ is an $n\\times n$ matrix where every element is one.\n",
    "\n",
    "If $d$ is one, we have the case we had previously, whereas if $d$ is zero, we will always visit a random webpage and therefore all webpages will be equally likely and equally ranked.\n",
    "For this extension to work best, $1-d$ should be somewhat small - though we won't go into a discussion about exactly how small.\n",
    "\n",
    "Let's retry this PageRank with this extension."
   ]
  },
  {
   "cell_type": "code",
   "execution_count": 83,
   "metadata": {
    "collapsed": true
   },
   "outputs": [],
   "source": [
    "d = 0.05 # Feel free to play with this parameter after running the code once.\n",
    "M = d * L2 + (1-d)/7 * np.ones([7, 7]) # np.ones() is the J matrix, with ones for each entry."
   ]
  },
  {
   "cell_type": "code",
   "execution_count": 84,
   "metadata": {},
   "outputs": [
    {
     "name": "stdout",
     "output_type": "stream",
     "text": [
      "2 iterations to convergence.\n"
     ]
    },
    {
     "data": {
      "text/plain": [
       "array([ 14.17716601,  14.14700728,  15.12323082,  14.62946429,\n",
       "        13.57142857,  13.82349537,  14.52820767])"
      ]
     },
     "execution_count": 84,
     "metadata": {},
     "output_type": "execute_result"
    }
   ],
   "source": [
    "r = 100 * np.ones(7) / 7 # Sets up this vector (6 entries of 1/6 × 100 each)\n",
    "lastR = r\n",
    "r = M @ r\n",
    "i = 0\n",
    "while la.norm(lastR - r) > 0.01 :\n",
    "    lastR = r\n",
    "    r = M @ r\n",
    "    i += 1\n",
    "print(str(i) + \" iterations to convergence.\")\n",
    "r"
   ]
  },
  {
   "cell_type": "markdown",
   "metadata": {},
   "source": [
    "This is certainly better, the PageRank gives sensible numbers for the Procrastinating Pats that end up on each webpage.\n",
    "This method still predicts Geoff has a high ranking webpage however.\n",
    "This could be seen as a consequence of using a small network. We could also get around the problem by not counting self-links when producing the L matrix (an if a website has no outgoing links, make it link to all websites equally).\n",
    "We won't look further down this route, as this is in the realm of improvements to PageRank, rather than eigenproblems.\n",
    "\n",
    "You are now in a good position, having gained an understanding of PageRank, to produce your own code to calculate the PageRank of a website with thousands of entries.\n",
    "\n",
    "Good Luck!"
   ]
  },
  {
   "cell_type": "markdown",
   "metadata": {},
   "source": [
    "## Part 2 - Assessment\n",
    "In this assessment, you will be asked to produce a function that can calculate the PageRank for an arbitrarily large probability matrix.\n",
    "This, the final assignment of the course, will give less guidance than previous assessments.\n",
    "You will be expected to utilise code from earlier in the worksheet and re-purpose it to your needs.\n",
    "\n",
    "### How to submit\n",
    "Edit the code in the cell below to complete the assignment.\n",
    "Once you are finished and happy with it, press the *Submit Assignment* button at the top of this notebook.\n",
    "\n",
    "Please don't change any of the function names, as these will be checked by the grading script.\n",
    "\n",
    "If you have further questions about submissions or programming assignments, here is a [list](https://www.coursera.org/learn/linear-algebra-machine-learning/discussions/weeks/1/threads/jB4klkn5EeibtBIQyzFmQg) of Q&A. You can also raise an issue on the discussion forum. Good luck!"
   ]
  },
  {
   "cell_type": "code",
   "execution_count": 100,
   "metadata": {
    "collapsed": true
   },
   "outputs": [],
   "source": [
    "# PACKAGE\n",
    "# Here are the imports again, just in case you need them.\n",
    "# There is no need to edit or submit this cell.\n",
    "import numpy as np\n",
    "import numpy.linalg as la\n",
    "from readonly.PageRankFunctions import *\n",
    "np.set_printoptions(suppress=True)"
   ]
  },
  {
   "cell_type": "code",
   "execution_count": 101,
   "metadata": {
    "collapsed": true
   },
   "outputs": [],
   "source": [
    "# GRADED FUNCTION\n",
    "# Complete this function to provide the PageRank for an arbitrarily sized internet.\n",
    "# I.e. the principal eigenvector of the damped system, using the power iteration method.\n",
    "# (Normalisation doesn't matter here)\n",
    "# The functions inputs are the linkMatrix, and d the damping parameter - as defined in this worksheet.\n",
    "# (The damping parameter, d, will be set by the function - no need to set this yourself.)\n",
    "def pageRank(linkMatrix, d) :\n",
    "    n = linkMatrix.shape[0]\n",
    "    M = d * linkMatrix + (1 - d)/n * np.ones([n , n])\n",
    "    r = 100* np.ones(n) / n\n",
    "    lastR = r\n",
    "    r = M @ r\n",
    "    i = 0\n",
    "    while la.norm(lastR - r) > 0.01:\n",
    "        lastR = r\n",
    "        r = M @ r\n",
    "        i += 1\n",
    "    return r\n"
   ]
  },
  {
   "cell_type": "markdown",
   "metadata": {},
   "source": [
    "## Test your code before submission\n",
    "To test the code you've written above, run the cell (select the cell above, then press the play button [ ▶| ] or press shift-enter).\n",
    "You can then use the code below to test out your function.\n",
    "You don't need to submit this cell; you can edit and run it as much as you like."
   ]
  },
  {
   "cell_type": "code",
   "execution_count": 103,
   "metadata": {},
   "outputs": [
    {
     "data": {
      "text/plain": [
       "array([[ 0. ,  0.2,  0. ,  0.2,  0.2],\n",
       "       [ 0.5,  0.2,  0. ,  0.2,  0.2],\n",
       "       [ 0. ,  0.2,  1. ,  0.2,  0.2],\n",
       "       [ 0. ,  0.2,  0. ,  0.2,  0.2],\n",
       "       [ 0.5,  0.2,  0. ,  0.2,  0.2]])"
      ]
     },
     "execution_count": 103,
     "metadata": {},
     "output_type": "execute_result"
    }
   ],
   "source": [
    "# Use the following function to generate internets of different sizes.\n",
    "generate_internet(5)"
   ]
  },
  {
   "cell_type": "code",
   "execution_count": 104,
   "metadata": {
    "collapsed": true
   },
   "outputs": [],
   "source": [
    "# Test your PageRank method against the built in \"eig\" method.\n",
    "# You should see yours is a lot faster for large internets\n",
    "L = generate_internet(10)"
   ]
  },
  {
   "cell_type": "code",
   "execution_count": 105,
   "metadata": {},
   "outputs": [
    {
     "data": {
      "text/plain": [
       "array([  0.00115564,   0.00115564,   0.00180871,   0.00050257,\n",
       "         0.00382528,   0.00317221,  46.14800316,   0.00115564,\n",
       "         0.00317221,  53.83604896])"
      ]
     },
     "execution_count": 105,
     "metadata": {},
     "output_type": "execute_result"
    }
   ],
   "source": [
    "pageRank(L, 1)"
   ]
  },
  {
   "cell_type": "code",
   "execution_count": 106,
   "metadata": {},
   "outputs": [
    {
     "data": {
      "text/plain": [
       "array([  0.00000002,   0.00000002,   0.00000003,   0.00000002,\n",
       "         0.00000004,   0.00000003,  46.15384505,   0.00000002,\n",
       "         0.00000003,  53.84615474])"
      ]
     },
     "execution_count": 106,
     "metadata": {},
     "output_type": "execute_result"
    }
   ],
   "source": [
    "# Do note, this is calculating the eigenvalues of the link matrix, L,\n",
    "# without any damping. It may give different results that your pageRank function.\n",
    "# If you wish, you could modify this cell to include damping.\n",
    "# (There is no credit for this though)\n",
    "eVals, eVecs = la.eig(L) # Gets the eigenvalues and vectors\n",
    "order = np.absolute(eVals).argsort()[::-1] # Orders them by their eigenvalues\n",
    "eVals = eVals[order]\n",
    "eVecs = eVecs[:,order]\n",
    "\n",
    "r = eVecs[:, 0]\n",
    "100 * np.real(r / np.sum(r))"
   ]
  },
  {
   "cell_type": "code",
   "execution_count": 107,
   "metadata": {},
   "outputs": [
    {
     "name": "stdout",
     "output_type": "stream",
     "text": [
      "Populating the interactive namespace from numpy and matplotlib\n"
     ]
    },
    {
     "data": {
      "application/javascript": "/* Put everything inside the global mpl namespace */\nwindow.mpl = {};\n\n\nmpl.get_websocket_type = function() {\n    if (typeof(WebSocket) !== 'undefined') {\n        return WebSocket;\n    } else if (typeof(MozWebSocket) !== 'undefined') {\n        return MozWebSocket;\n    } else {\n        alert('Your browser does not have WebSocket support.' +\n              'Please try Chrome, Safari or Firefox ≥ 6. ' +\n              'Firefox 4 and 5 are also supported but you ' +\n              'have to enable WebSockets in about:config.');\n    };\n}\n\nmpl.figure = function(figure_id, websocket, ondownload, parent_element) {\n    this.id = figure_id;\n\n    this.ws = websocket;\n\n    this.supports_binary = (this.ws.binaryType != undefined);\n\n    if (!this.supports_binary) {\n        var warnings = document.getElementById(\"mpl-warnings\");\n        if (warnings) {\n            warnings.style.display = 'block';\n            warnings.textContent = (\n                \"This browser does not support binary websocket messages. \" +\n                    \"Performance may be slow.\");\n        }\n    }\n\n    this.imageObj = new Image();\n\n    this.context = undefined;\n    this.message = undefined;\n    this.canvas = undefined;\n    this.rubberband_canvas = undefined;\n    this.rubberband_context = undefined;\n    this.format_dropdown = undefined;\n\n    this.image_mode = 'full';\n\n    this.root = $('<div/>');\n    this._root_extra_style(this.root)\n    this.root.attr('style', 'display: inline-block');\n\n    $(parent_element).append(this.root);\n\n    this._init_header(this);\n    this._init_canvas(this);\n    this._init_toolbar(this);\n\n    var fig = this;\n\n    this.waiting = false;\n\n    this.ws.onopen =  function () {\n            fig.send_message(\"supports_binary\", {value: fig.supports_binary});\n            fig.send_message(\"send_image_mode\", {});\n            if (mpl.ratio != 1) {\n                fig.send_message(\"set_dpi_ratio\", {'dpi_ratio': mpl.ratio});\n            }\n            fig.send_message(\"refresh\", {});\n        }\n\n    this.imageObj.onload = function() {\n            if (fig.image_mode == 'full') {\n                // Full images could contain transparency (where diff images\n                // almost always do), so we need to clear the canvas so that\n                // there is no ghosting.\n                fig.context.clearRect(0, 0, fig.canvas.width, fig.canvas.height);\n            }\n            fig.context.drawImage(fig.imageObj, 0, 0);\n        };\n\n    this.imageObj.onunload = function() {\n        this.ws.close();\n    }\n\n    this.ws.onmessage = this._make_on_message_function(this);\n\n    this.ondownload = ondownload;\n}\n\nmpl.figure.prototype._init_header = function() {\n    var titlebar = $(\n        '<div class=\"ui-dialog-titlebar ui-widget-header ui-corner-all ' +\n        'ui-helper-clearfix\"/>');\n    var titletext = $(\n        '<div class=\"ui-dialog-title\" style=\"width: 100%; ' +\n        'text-align: center; padding: 3px;\"/>');\n    titlebar.append(titletext)\n    this.root.append(titlebar);\n    this.header = titletext[0];\n}\n\n\n\nmpl.figure.prototype._canvas_extra_style = function(canvas_div) {\n\n}\n\n\nmpl.figure.prototype._root_extra_style = function(canvas_div) {\n\n}\n\nmpl.figure.prototype._init_canvas = function() {\n    var fig = this;\n\n    var canvas_div = $('<div/>');\n\n    canvas_div.attr('style', 'position: relative; clear: both; outline: 0');\n\n    function canvas_keyboard_event(event) {\n        return fig.key_event(event, event['data']);\n    }\n\n    canvas_div.keydown('key_press', canvas_keyboard_event);\n    canvas_div.keyup('key_release', canvas_keyboard_event);\n    this.canvas_div = canvas_div\n    this._canvas_extra_style(canvas_div)\n    this.root.append(canvas_div);\n\n    var canvas = $('<canvas/>');\n    canvas.addClass('mpl-canvas');\n    canvas.attr('style', \"left: 0; top: 0; z-index: 0; outline: 0\")\n\n    this.canvas = canvas[0];\n    this.context = canvas[0].getContext(\"2d\");\n\n    var backingStore = this.context.backingStorePixelRatio ||\n\tthis.context.webkitBackingStorePixelRatio ||\n\tthis.context.mozBackingStorePixelRatio ||\n\tthis.context.msBackingStorePixelRatio ||\n\tthis.context.oBackingStorePixelRatio ||\n\tthis.context.backingStorePixelRatio || 1;\n\n    mpl.ratio = (window.devicePixelRatio || 1) / backingStore;\n\n    var rubberband = $('<canvas/>');\n    rubberband.attr('style', \"position: absolute; left: 0; top: 0; z-index: 1;\")\n\n    var pass_mouse_events = true;\n\n    canvas_div.resizable({\n        start: function(event, ui) {\n            pass_mouse_events = false;\n        },\n        resize: function(event, ui) {\n            fig.request_resize(ui.size.width, ui.size.height);\n        },\n        stop: function(event, ui) {\n            pass_mouse_events = true;\n            fig.request_resize(ui.size.width, ui.size.height);\n        },\n    });\n\n    function mouse_event_fn(event) {\n        if (pass_mouse_events)\n            return fig.mouse_event(event, event['data']);\n    }\n\n    rubberband.mousedown('button_press', mouse_event_fn);\n    rubberband.mouseup('button_release', mouse_event_fn);\n    // Throttle sequential mouse events to 1 every 20ms.\n    rubberband.mousemove('motion_notify', mouse_event_fn);\n\n    rubberband.mouseenter('figure_enter', mouse_event_fn);\n    rubberband.mouseleave('figure_leave', mouse_event_fn);\n\n    canvas_div.on(\"wheel\", function (event) {\n        event = event.originalEvent;\n        event['data'] = 'scroll'\n        if (event.deltaY < 0) {\n            event.step = 1;\n        } else {\n            event.step = -1;\n        }\n        mouse_event_fn(event);\n    });\n\n    canvas_div.append(canvas);\n    canvas_div.append(rubberband);\n\n    this.rubberband = rubberband;\n    this.rubberband_canvas = rubberband[0];\n    this.rubberband_context = rubberband[0].getContext(\"2d\");\n    this.rubberband_context.strokeStyle = \"#000000\";\n\n    this._resize_canvas = function(width, height) {\n        // Keep the size of the canvas, canvas container, and rubber band\n        // canvas in synch.\n        canvas_div.css('width', width)\n        canvas_div.css('height', height)\n\n        canvas.attr('width', width * mpl.ratio);\n        canvas.attr('height', height * mpl.ratio);\n        canvas.attr('style', 'width: ' + width + 'px; height: ' + height + 'px;');\n\n        rubberband.attr('width', width);\n        rubberband.attr('height', height);\n    }\n\n    // Set the figure to an initial 600x600px, this will subsequently be updated\n    // upon first draw.\n    this._resize_canvas(600, 600);\n\n    // Disable right mouse context menu.\n    $(this.rubberband_canvas).bind(\"contextmenu\",function(e){\n        return false;\n    });\n\n    function set_focus () {\n        canvas.focus();\n        canvas_div.focus();\n    }\n\n    window.setTimeout(set_focus, 100);\n}\n\nmpl.figure.prototype._init_toolbar = function() {\n    var fig = this;\n\n    var nav_element = $('<div/>')\n    nav_element.attr('style', 'width: 100%');\n    this.root.append(nav_element);\n\n    // Define a callback function for later on.\n    function toolbar_event(event) {\n        return fig.toolbar_button_onclick(event['data']);\n    }\n    function toolbar_mouse_event(event) {\n        return fig.toolbar_button_onmouseover(event['data']);\n    }\n\n    for(var toolbar_ind in mpl.toolbar_items) {\n        var name = mpl.toolbar_items[toolbar_ind][0];\n        var tooltip = mpl.toolbar_items[toolbar_ind][1];\n        var image = mpl.toolbar_items[toolbar_ind][2];\n        var method_name = mpl.toolbar_items[toolbar_ind][3];\n\n        if (!name) {\n            // put a spacer in here.\n            continue;\n        }\n        var button = $('<button/>');\n        button.addClass('ui-button ui-widget ui-state-default ui-corner-all ' +\n                        'ui-button-icon-only');\n        button.attr('role', 'button');\n        button.attr('aria-disabled', 'false');\n        button.click(method_name, toolbar_event);\n        button.mouseover(tooltip, toolbar_mouse_event);\n\n        var icon_img = $('<span/>');\n        icon_img.addClass('ui-button-icon-primary ui-icon');\n        icon_img.addClass(image);\n        icon_img.addClass('ui-corner-all');\n\n        var tooltip_span = $('<span/>');\n        tooltip_span.addClass('ui-button-text');\n        tooltip_span.html(tooltip);\n\n        button.append(icon_img);\n        button.append(tooltip_span);\n\n        nav_element.append(button);\n    }\n\n    var fmt_picker_span = $('<span/>');\n\n    var fmt_picker = $('<select/>');\n    fmt_picker.addClass('mpl-toolbar-option ui-widget ui-widget-content');\n    fmt_picker_span.append(fmt_picker);\n    nav_element.append(fmt_picker_span);\n    this.format_dropdown = fmt_picker[0];\n\n    for (var ind in mpl.extensions) {\n        var fmt = mpl.extensions[ind];\n        var option = $(\n            '<option/>', {selected: fmt === mpl.default_extension}).html(fmt);\n        fmt_picker.append(option)\n    }\n\n    // Add hover states to the ui-buttons\n    $( \".ui-button\" ).hover(\n        function() { $(this).addClass(\"ui-state-hover\");},\n        function() { $(this).removeClass(\"ui-state-hover\");}\n    );\n\n    var status_bar = $('<span class=\"mpl-message\"/>');\n    nav_element.append(status_bar);\n    this.message = status_bar[0];\n}\n\nmpl.figure.prototype.request_resize = function(x_pixels, y_pixels) {\n    // Request matplotlib to resize the figure. Matplotlib will then trigger a resize in the client,\n    // which will in turn request a refresh of the image.\n    this.send_message('resize', {'width': x_pixels, 'height': y_pixels});\n}\n\nmpl.figure.prototype.send_message = function(type, properties) {\n    properties['type'] = type;\n    properties['figure_id'] = this.id;\n    this.ws.send(JSON.stringify(properties));\n}\n\nmpl.figure.prototype.send_draw_message = function() {\n    if (!this.waiting) {\n        this.waiting = true;\n        this.ws.send(JSON.stringify({type: \"draw\", figure_id: this.id}));\n    }\n}\n\n\nmpl.figure.prototype.handle_save = function(fig, msg) {\n    var format_dropdown = fig.format_dropdown;\n    var format = format_dropdown.options[format_dropdown.selectedIndex].value;\n    fig.ondownload(fig, format);\n}\n\n\nmpl.figure.prototype.handle_resize = function(fig, msg) {\n    var size = msg['size'];\n    if (size[0] != fig.canvas.width || size[1] != fig.canvas.height) {\n        fig._resize_canvas(size[0], size[1]);\n        fig.send_message(\"refresh\", {});\n    };\n}\n\nmpl.figure.prototype.handle_rubberband = function(fig, msg) {\n    var x0 = msg['x0'] / mpl.ratio;\n    var y0 = (fig.canvas.height - msg['y0']) / mpl.ratio;\n    var x1 = msg['x1'] / mpl.ratio;\n    var y1 = (fig.canvas.height - msg['y1']) / mpl.ratio;\n    x0 = Math.floor(x0) + 0.5;\n    y0 = Math.floor(y0) + 0.5;\n    x1 = Math.floor(x1) + 0.5;\n    y1 = Math.floor(y1) + 0.5;\n    var min_x = Math.min(x0, x1);\n    var min_y = Math.min(y0, y1);\n    var width = Math.abs(x1 - x0);\n    var height = Math.abs(y1 - y0);\n\n    fig.rubberband_context.clearRect(\n        0, 0, fig.canvas.width, fig.canvas.height);\n\n    fig.rubberband_context.strokeRect(min_x, min_y, width, height);\n}\n\nmpl.figure.prototype.handle_figure_label = function(fig, msg) {\n    // Updates the figure title.\n    fig.header.textContent = msg['label'];\n}\n\nmpl.figure.prototype.handle_cursor = function(fig, msg) {\n    var cursor = msg['cursor'];\n    switch(cursor)\n    {\n    case 0:\n        cursor = 'pointer';\n        break;\n    case 1:\n        cursor = 'default';\n        break;\n    case 2:\n        cursor = 'crosshair';\n        break;\n    case 3:\n        cursor = 'move';\n        break;\n    }\n    fig.rubberband_canvas.style.cursor = cursor;\n}\n\nmpl.figure.prototype.handle_message = function(fig, msg) {\n    fig.message.textContent = msg['message'];\n}\n\nmpl.figure.prototype.handle_draw = function(fig, msg) {\n    // Request the server to send over a new figure.\n    fig.send_draw_message();\n}\n\nmpl.figure.prototype.handle_image_mode = function(fig, msg) {\n    fig.image_mode = msg['mode'];\n}\n\nmpl.figure.prototype.updated_canvas_event = function() {\n    // Called whenever the canvas gets updated.\n    this.send_message(\"ack\", {});\n}\n\n// A function to construct a web socket function for onmessage handling.\n// Called in the figure constructor.\nmpl.figure.prototype._make_on_message_function = function(fig) {\n    return function socket_on_message(evt) {\n        if (evt.data instanceof Blob) {\n            /* FIXME: We get \"Resource interpreted as Image but\n             * transferred with MIME type text/plain:\" errors on\n             * Chrome.  But how to set the MIME type?  It doesn't seem\n             * to be part of the websocket stream */\n            evt.data.type = \"image/png\";\n\n            /* Free the memory for the previous frames */\n            if (fig.imageObj.src) {\n                (window.URL || window.webkitURL).revokeObjectURL(\n                    fig.imageObj.src);\n            }\n\n            fig.imageObj.src = (window.URL || window.webkitURL).createObjectURL(\n                evt.data);\n            fig.updated_canvas_event();\n            fig.waiting = false;\n            return;\n        }\n        else if (typeof evt.data === 'string' && evt.data.slice(0, 21) == \"data:image/png;base64\") {\n            fig.imageObj.src = evt.data;\n            fig.updated_canvas_event();\n            fig.waiting = false;\n            return;\n        }\n\n        var msg = JSON.parse(evt.data);\n        var msg_type = msg['type'];\n\n        // Call the  \"handle_{type}\" callback, which takes\n        // the figure and JSON message as its only arguments.\n        try {\n            var callback = fig[\"handle_\" + msg_type];\n        } catch (e) {\n            console.log(\"No handler for the '\" + msg_type + \"' message type: \", msg);\n            return;\n        }\n\n        if (callback) {\n            try {\n                // console.log(\"Handling '\" + msg_type + \"' message: \", msg);\n                callback(fig, msg);\n            } catch (e) {\n                console.log(\"Exception inside the 'handler_\" + msg_type + \"' callback:\", e, e.stack, msg);\n            }\n        }\n    };\n}\n\n// from http://stackoverflow.com/questions/1114465/getting-mouse-location-in-canvas\nmpl.findpos = function(e) {\n    //this section is from http://www.quirksmode.org/js/events_properties.html\n    var targ;\n    if (!e)\n        e = window.event;\n    if (e.target)\n        targ = e.target;\n    else if (e.srcElement)\n        targ = e.srcElement;\n    if (targ.nodeType == 3) // defeat Safari bug\n        targ = targ.parentNode;\n\n    // jQuery normalizes the pageX and pageY\n    // pageX,Y are the mouse positions relative to the document\n    // offset() returns the position of the element relative to the document\n    var x = e.pageX - $(targ).offset().left;\n    var y = e.pageY - $(targ).offset().top;\n\n    return {\"x\": x, \"y\": y};\n};\n\n/*\n * return a copy of an object with only non-object keys\n * we need this to avoid circular references\n * http://stackoverflow.com/a/24161582/3208463\n */\nfunction simpleKeys (original) {\n  return Object.keys(original).reduce(function (obj, key) {\n    if (typeof original[key] !== 'object')\n        obj[key] = original[key]\n    return obj;\n  }, {});\n}\n\nmpl.figure.prototype.mouse_event = function(event, name) {\n    var canvas_pos = mpl.findpos(event)\n\n    if (name === 'button_press')\n    {\n        this.canvas.focus();\n        this.canvas_div.focus();\n    }\n\n    var x = canvas_pos.x * mpl.ratio;\n    var y = canvas_pos.y * mpl.ratio;\n\n    this.send_message(name, {x: x, y: y, button: event.button,\n                             step: event.step,\n                             guiEvent: simpleKeys(event)});\n\n    /* This prevents the web browser from automatically changing to\n     * the text insertion cursor when the button is pressed.  We want\n     * to control all of the cursor setting manually through the\n     * 'cursor' event from matplotlib */\n    event.preventDefault();\n    return false;\n}\n\nmpl.figure.prototype._key_event_extra = function(event, name) {\n    // Handle any extra behaviour associated with a key event\n}\n\nmpl.figure.prototype.key_event = function(event, name) {\n\n    // Prevent repeat events\n    if (name == 'key_press')\n    {\n        if (event.which === this._key)\n            return;\n        else\n            this._key = event.which;\n    }\n    if (name == 'key_release')\n        this._key = null;\n\n    var value = '';\n    if (event.ctrlKey && event.which != 17)\n        value += \"ctrl+\";\n    if (event.altKey && event.which != 18)\n        value += \"alt+\";\n    if (event.shiftKey && event.which != 16)\n        value += \"shift+\";\n\n    value += 'k';\n    value += event.which.toString();\n\n    this._key_event_extra(event, name);\n\n    this.send_message(name, {key: value,\n                             guiEvent: simpleKeys(event)});\n    return false;\n}\n\nmpl.figure.prototype.toolbar_button_onclick = function(name) {\n    if (name == 'download') {\n        this.handle_save(this, null);\n    } else {\n        this.send_message(\"toolbar_button\", {name: name});\n    }\n};\n\nmpl.figure.prototype.toolbar_button_onmouseover = function(tooltip) {\n    this.message.textContent = tooltip;\n};\nmpl.toolbar_items = [[\"Home\", \"Reset original view\", \"fa fa-home icon-home\", \"home\"], [\"Back\", \"Back to  previous view\", \"fa fa-arrow-left icon-arrow-left\", \"back\"], [\"Forward\", \"Forward to next view\", \"fa fa-arrow-right icon-arrow-right\", \"forward\"], [\"\", \"\", \"\", \"\"], [\"Pan\", \"Pan axes with left mouse, zoom with right\", \"fa fa-arrows icon-move\", \"pan\"], [\"Zoom\", \"Zoom to rectangle\", \"fa fa-square-o icon-check-empty\", \"zoom\"], [\"\", \"\", \"\", \"\"], [\"Download\", \"Download plot\", \"fa fa-floppy-o icon-save\", \"download\"]];\n\nmpl.extensions = [\"eps\", \"jpeg\", \"pdf\", \"png\", \"ps\", \"raw\", \"svg\", \"tif\"];\n\nmpl.default_extension = \"png\";var comm_websocket_adapter = function(comm) {\n    // Create a \"websocket\"-like object which calls the given IPython comm\n    // object with the appropriate methods. Currently this is a non binary\n    // socket, so there is still some room for performance tuning.\n    var ws = {};\n\n    ws.close = function() {\n        comm.close()\n    };\n    ws.send = function(m) {\n        //console.log('sending', m);\n        comm.send(m);\n    };\n    // Register the callback with on_msg.\n    comm.on_msg(function(msg) {\n        //console.log('receiving', msg['content']['data'], msg);\n        // Pass the mpl event to the overriden (by mpl) onmessage function.\n        ws.onmessage(msg['content']['data'])\n    });\n    return ws;\n}\n\nmpl.mpl_figure_comm = function(comm, msg) {\n    // This is the function which gets called when the mpl process\n    // starts-up an IPython Comm through the \"matplotlib\" channel.\n\n    var id = msg.content.data.id;\n    // Get hold of the div created by the display call when the Comm\n    // socket was opened in Python.\n    var element = $(\"#\" + id);\n    var ws_proxy = comm_websocket_adapter(comm)\n\n    function ondownload(figure, format) {\n        window.open(figure.imageObj.src);\n    }\n\n    var fig = new mpl.figure(id, ws_proxy,\n                           ondownload,\n                           element.get(0));\n\n    // Call onopen now - mpl needs it, as it is assuming we've passed it a real\n    // web socket which is closed, not our websocket->open comm proxy.\n    ws_proxy.onopen();\n\n    fig.parent_element = element.get(0);\n    fig.cell_info = mpl.find_output_cell(\"<div id='\" + id + \"'></div>\");\n    if (!fig.cell_info) {\n        console.error(\"Failed to find cell for figure\", id, fig);\n        return;\n    }\n\n    var output_index = fig.cell_info[2]\n    var cell = fig.cell_info[0];\n\n};\n\nmpl.figure.prototype.handle_close = function(fig, msg) {\n    var width = fig.canvas.width/mpl.ratio\n    fig.root.unbind('remove')\n\n    // Update the output cell to use the data from the current canvas.\n    fig.push_to_output();\n    var dataURL = fig.canvas.toDataURL();\n    // Re-enable the keyboard manager in IPython - without this line, in FF,\n    // the notebook keyboard shortcuts fail.\n    IPython.keyboard_manager.enable()\n    $(fig.parent_element).html('<img src=\"' + dataURL + '\" width=\"' + width + '\">');\n    fig.close_ws(fig, msg);\n}\n\nmpl.figure.prototype.close_ws = function(fig, msg){\n    fig.send_message('closing', msg);\n    // fig.ws.close()\n}\n\nmpl.figure.prototype.push_to_output = function(remove_interactive) {\n    // Turn the data on the canvas into data in the output cell.\n    var width = this.canvas.width/mpl.ratio\n    var dataURL = this.canvas.toDataURL();\n    this.cell_info[1]['text/html'] = '<img src=\"' + dataURL + '\" width=\"' + width + '\">';\n}\n\nmpl.figure.prototype.updated_canvas_event = function() {\n    // Tell IPython that the notebook contents must change.\n    IPython.notebook.set_dirty(true);\n    this.send_message(\"ack\", {});\n    var fig = this;\n    // Wait a second, then push the new image to the DOM so\n    // that it is saved nicely (might be nice to debounce this).\n    setTimeout(function () { fig.push_to_output() }, 1000);\n}\n\nmpl.figure.prototype._init_toolbar = function() {\n    var fig = this;\n\n    var nav_element = $('<div/>')\n    nav_element.attr('style', 'width: 100%');\n    this.root.append(nav_element);\n\n    // Define a callback function for later on.\n    function toolbar_event(event) {\n        return fig.toolbar_button_onclick(event['data']);\n    }\n    function toolbar_mouse_event(event) {\n        return fig.toolbar_button_onmouseover(event['data']);\n    }\n\n    for(var toolbar_ind in mpl.toolbar_items){\n        var name = mpl.toolbar_items[toolbar_ind][0];\n        var tooltip = mpl.toolbar_items[toolbar_ind][1];\n        var image = mpl.toolbar_items[toolbar_ind][2];\n        var method_name = mpl.toolbar_items[toolbar_ind][3];\n\n        if (!name) { continue; };\n\n        var button = $('<button class=\"btn btn-default\" href=\"#\" title=\"' + name + '\"><i class=\"fa ' + image + ' fa-lg\"></i></button>');\n        button.click(method_name, toolbar_event);\n        button.mouseover(tooltip, toolbar_mouse_event);\n        nav_element.append(button);\n    }\n\n    // Add the status bar.\n    var status_bar = $('<span class=\"mpl-message\" style=\"text-align:right; float: right;\"/>');\n    nav_element.append(status_bar);\n    this.message = status_bar[0];\n\n    // Add the close button to the window.\n    var buttongrp = $('<div class=\"btn-group inline pull-right\"></div>');\n    var button = $('<button class=\"btn btn-mini btn-primary\" href=\"#\" title=\"Stop Interaction\"><i class=\"fa fa-power-off icon-remove icon-large\"></i></button>');\n    button.click(function (evt) { fig.handle_close(fig, {}); } );\n    button.mouseover('Stop Interaction', toolbar_mouse_event);\n    buttongrp.append(button);\n    var titlebar = this.root.find($('.ui-dialog-titlebar'));\n    titlebar.prepend(buttongrp);\n}\n\nmpl.figure.prototype._root_extra_style = function(el){\n    var fig = this\n    el.on(\"remove\", function(){\n\tfig.close_ws(fig, {});\n    });\n}\n\nmpl.figure.prototype._canvas_extra_style = function(el){\n    // this is important to make the div 'focusable\n    el.attr('tabindex', 0)\n    // reach out to IPython and tell the keyboard manager to turn it's self\n    // off when our div gets focus\n\n    // location in version 3\n    if (IPython.notebook.keyboard_manager) {\n        IPython.notebook.keyboard_manager.register_events(el);\n    }\n    else {\n        // location in version 2\n        IPython.keyboard_manager.register_events(el);\n    }\n\n}\n\nmpl.figure.prototype._key_event_extra = function(event, name) {\n    var manager = IPython.notebook.keyboard_manager;\n    if (!manager)\n        manager = IPython.keyboard_manager;\n\n    // Check for shift+enter\n    if (event.shiftKey && event.which == 13) {\n        this.canvas_div.blur();\n        // select the cell after this one\n        var index = IPython.notebook.find_cell_index(this.cell_info[0]);\n        IPython.notebook.select(index + 1);\n    }\n}\n\nmpl.figure.prototype.handle_save = function(fig, msg) {\n    fig.ondownload(fig, null);\n}\n\n\nmpl.find_output_cell = function(html_output) {\n    // Return the cell and output element which can be found *uniquely* in the notebook.\n    // Note - this is a bit hacky, but it is done because the \"notebook_saving.Notebook\"\n    // IPython event is triggered only after the cells have been serialised, which for\n    // our purposes (turning an active figure into a static one), is too late.\n    var cells = IPython.notebook.get_cells();\n    var ncells = cells.length;\n    for (var i=0; i<ncells; i++) {\n        var cell = cells[i];\n        if (cell.cell_type === 'code'){\n            for (var j=0; j<cell.output_area.outputs.length; j++) {\n                var data = cell.output_area.outputs[j];\n                if (data.data) {\n                    // IPython >= 3 moved mimebundle to data attribute of output\n                    data = data.data;\n                }\n                if (data['text/html'] == html_output) {\n                    return [cell, data, j];\n                }\n            }\n        }\n    }\n}\n\n// Register the function which deals with the matplotlib target/channel.\n// The kernel may be null if the page has been refreshed.\nif (IPython.notebook.kernel != null) {\n    IPython.notebook.kernel.comm_manager.register_target('matplotlib', mpl.mpl_figure_comm);\n}\n",
      "text/plain": [
       "<IPython.core.display.Javascript object>"
      ]
     },
     "metadata": {},
     "output_type": "display_data"
    },
    {
     "data": {
      "text/html": [
       "<img src=\"data:image/png;base64,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\" width=\"640\">"
      ],
      "text/plain": [
       "<IPython.core.display.HTML object>"
      ]
     },
     "metadata": {},
     "output_type": "display_data"
    }
   ],
   "source": [
    "# You may wish to view the PageRank graphically.\n",
    "# This code will draw a bar chart, for each (numbered) website on the generated internet,\n",
    "# The height of each bar will be the score in the PageRank.\n",
    "# Run this code to see the PageRank for each internet you generate.\n",
    "# Hopefully you should see what you might expect\n",
    "# - there are a few clusters of important websites, but most on the internet are rubbish!\n",
    "%pylab notebook\n",
    "r = pageRank(generate_internet(100), 0.9)\n",
    "plt.bar(arange(r.shape[0]), r);"
   ]
  },
  {
   "cell_type": "code",
   "execution_count": null,
   "metadata": {
    "collapsed": true
   },
   "outputs": [],
   "source": []
  }
 ],
 "metadata": {
  "coursera": {
   "course_slug": "linear-algebra-machine-learning",
   "graded_item_id": "Sfbnp",
   "launcher_item_id": "aPxf3"
  },
  "kernelspec": {
   "display_name": "Python 3.9.1 64-bit",
   "language": "python",
   "name": "python3"
  },
  "language_info": {
   "codemirror_mode": {
    "name": "ipython",
    "version": 3
   },
   "file_extension": ".py",
   "mimetype": "text/x-python",
   "name": "python",
   "nbconvert_exporter": "python",
   "pygments_lexer": "ipython3",
   "version": "3.9.1"
  },
  "vscode": {
   "interpreter": {
    "hash": "31f2aee4e71d21fbe5cf8b01ff0e069b9275f58929596ceb00d14d90e3e16cd6"
   }
  }
 },
 "nbformat": 4,
 "nbformat_minor": 1
}
